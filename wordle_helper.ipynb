{
 "cells": [
  {
   "cell_type": "code",
   "execution_count": null,
   "id": "63815f7e",
   "metadata": {},
   "outputs": [],
   "source": [
    "with open(\"words.txt\", \"r\") as f:\n",
    "    word_vec = f.readlines()"
   ]
  },
  {
   "cell_type": "code",
   "execution_count": null,
   "id": "4d5859a4",
   "metadata": {},
   "outputs": [],
   "source": [
    "word_vec = [i.replace('\\n', '').replace(\"''\", \"\") for i in word_vec][2:-1]"
   ]
  },
  {
   "cell_type": "code",
   "execution_count": null,
   "id": "4eed2353",
   "metadata": {},
   "outputs": [],
   "source": [
    "import string\n",
    "letter_freq = dict.fromkeys(string.ascii_lowercase, 0)\n",
    "letter_ranks = dict.fromkeys(string.ascii_lowercase, 0)\n"
   ]
  },
  {
   "cell_type": "code",
   "execution_count": null,
   "id": "1da33985",
   "metadata": {},
   "outputs": [],
   "source": [
    "for i in word_vec:\n",
    "    letters = set(i)\n",
    "    for letter in letters:\n",
    "        letter_freq[letter] += i.count(letter)"
   ]
  },
  {
   "cell_type": "code",
   "execution_count": null,
   "id": "64ed8cef",
   "metadata": {},
   "outputs": [],
   "source": [
    "cutoffs = [500, 850, 1500, 1900]"
   ]
  },
  {
   "cell_type": "code",
   "execution_count": null,
   "id": "05b1a5c3",
   "metadata": {},
   "outputs": [],
   "source": [
    "for key in letter_ranks:\n",
    "    if letter_freq[key] < cutoffs[0]:\n",
    "        letter_ranks[key] = 1\n",
    "    elif letter_freq[key] < cutoffs[1]:\n",
    "        letter_ranks[key] = 2\n",
    "    elif letter_freq[key] < cutoffs[2]:\n",
    "        letter_ranks[key] = 3\n",
    "    elif letter_freq[key] < cutoffs[3]:\n",
    "        letter_ranks[key] = 4\n",
    "    else:\n",
    "        letter_ranks[key] = 5"
   ]
  },
  {
   "cell_type": "code",
   "execution_count": null,
   "id": "1f7c8c92",
   "metadata": {},
   "outputs": [],
   "source": [
    "word_ranks = {key: 0 for key in word_vec}\n",
    "word_ranks_no_repeats = {key: 0 for key in word_vec}\n"
   ]
  },
  {
   "cell_type": "code",
   "execution_count": null,
   "id": "78de91b7",
   "metadata": {},
   "outputs": [],
   "source": [
    "for key in word_ranks:\n",
    "    word_ranks_no_repeats[key] = sum([ letter_ranks[i] for i in set(key) ])\n",
    "    word_ranks[key] = sum([ letter_ranks[i] for i in list(key) ])\n"
   ]
  },
  {
   "cell_type": "code",
   "execution_count": null,
   "id": "9c5f5cfa",
   "metadata": {},
   "outputs": [],
   "source": [
    "import copy"
   ]
  },
  {
   "cell_type": "code",
   "execution_count": null,
   "id": "1c837f36",
   "metadata": {
    "scrolled": true
   },
   "outputs": [],
   "source": [
    "word_ranks_no_repeats_instance = copy.deepcopy(word_ranks_no_repeats)\n",
    "word_ranks_instance = copy.deepcopy(word_ranks)\n",
    "\n",
    "print(f\"Recommended first words are:\\n{sorted(word_ranks_no_repeats_instance.items(), key=lambda item: item[1], reverse = True)[0:10]}\\n\")\n",
    "\n",
    "while True:\n",
    "    word = input(\"Enter your word: \")\n",
    "    if word == \"\":\n",
    "        break\n",
    "    \n",
    "    output = input(f\"Provide your output (1: correct space, 2: wrong space, 3: not present)\\n{word}\\n\")\n",
    "    \n",
    "    # iterate over letters\n",
    "    for i in range(0,len(word)):\n",
    "        \n",
    "        # if the letter is in the right place\n",
    "        if output[i] == \"1\":\n",
    "            for key in word_ranks:\n",
    "                # remove word from dictionary if does not have letter in the correct spot\n",
    "                if list(key)[i] != word[i]:\n",
    "                    word_ranks_instance.pop(key, None)\n",
    "                    word_ranks_no_repeats_instance.pop(key, None)\n",
    "        \n",
    "        # if letter is in the word but not the right space            \n",
    "        elif output[i] == \"2\":\n",
    "            for key in word_ranks:\n",
    "                # remove word from dictionary if it has the letter in that spot\n",
    "                if list(key)[i] == word[i]:\n",
    "                    word_ranks_instance.pop(key, None)\n",
    "                    word_ranks_no_repeats_instance.pop(key, None)\n",
    "                # remove word from dictionary if it does not contain letter\n",
    "                elif word[i] not in key:\n",
    "                    word_ranks_instance.pop(key, None)\n",
    "                    word_ranks_no_repeats_instance.pop(key, None)\n",
    "        \n",
    "        # if the letter is not in the word\n",
    "        elif output[i] == \"3\":\n",
    "            for key in word_ranks:\n",
    "                # remove word from dictionary if it contains letter\n",
    "                if word[i] in key:\n",
    "                    word_ranks_instance.pop(key, None)\n",
    "                    word_ranks_no_repeats_instance.pop(key, None)\n",
    "                    \n",
    "    repeats = input(\"Do you want repeats in your suggested word? (y/n)\\n\")\n",
    "    \n",
    "    if repeats == \"y\":\n",
    "        print(sorted(word_ranks_instance.items(), key=lambda item: item[1], reverse = True)[0:10])\n",
    "    elif repeats == \"n\":\n",
    "        print(sorted(word_ranks_no_repeats_instance.items(), key=lambda item: item[1], reverse = True)[0:10])\n",
    "\n",
    "                    \n",
    "            "
   ]
  },
  {
   "cell_type": "code",
   "execution_count": null,
   "id": "2b0e3c4a",
   "metadata": {},
   "outputs": [],
   "source": []
  }
 ],
 "metadata": {
  "kernelspec": {
   "display_name": "Python 3 (ipykernel)",
   "language": "python",
   "name": "python3"
  },
  "language_info": {
   "codemirror_mode": {
    "name": "ipython",
    "version": 3
   },
   "file_extension": ".py",
   "mimetype": "text/x-python",
   "name": "python",
   "nbconvert_exporter": "python",
   "pygments_lexer": "ipython3",
   "version": "3.9.7"
  }
 },
 "nbformat": 4,
 "nbformat_minor": 5
}
